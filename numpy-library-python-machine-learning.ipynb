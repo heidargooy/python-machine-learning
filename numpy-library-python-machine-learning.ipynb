{
 "cells": [
  {
   "cell_type": "markdown",
   "id": "2756f5d3-3e92-451d-8a23-a225fd63737e",
   "metadata": {},
   "source": [
    "# numpy code for machine learning"
   ]
  },
  {
   "cell_type": "markdown",
   "id": "5a5a2dc7-a993-4037-bc7f-46f3ee8aa57d",
   "metadata": {},
   "source": [
    "### import libraries:"
   ]
  },
  {
   "cell_type": "code",
   "execution_count": 2,
   "id": "0ea9cd48-dc6d-43f2-a074-ca97a2d64fef",
   "metadata": {},
   "outputs": [],
   "source": [
    "import numpy as np\n",
    "import pandas as pd"
   ]
  },
  {
   "cell_type": "markdown",
   "id": "1973b69a-cee7-4b21-a1be-2abd53e4d7be",
   "metadata": {},
   "source": [
    "### make array with numpy:"
   ]
  },
  {
   "cell_type": "markdown",
   "id": "d63dc2c6-f6e3-428a-b023-e768d41f8612",
   "metadata": {},
   "source": [
    "#### make array with range"
   ]
  },
  {
   "cell_type": "code",
   "execution_count": 7,
   "id": "e4dd7e25-6d22-4f6b-a364-c07c31a0af53",
   "metadata": {},
   "outputs": [
    {
     "data": {
      "text/plain": [
       "array([ 0,  1,  2,  3,  4,  5,  6,  7,  8,  9, 10, 11, 12, 13, 14])"
      ]
     },
     "execution_count": 7,
     "metadata": {},
     "output_type": "execute_result"
    }
   ],
   "source": [
    "a=np.arange(15)\n",
    "a"
   ]
  },
  {
   "cell_type": "markdown",
   "id": "2e547c8d-54dd-4bbc-a8e0-ea69b5f9b455",
   "metadata": {},
   "source": [
    "#### make array without range"
   ]
  },
  {
   "cell_type": "code",
   "execution_count": 5,
   "id": "56fcc04c-37d8-48a5-9624-179fd1dbdd9e",
   "metadata": {},
   "outputs": [
    {
     "data": {
      "text/plain": [
       "array(5)"
      ]
     },
     "execution_count": 5,
     "metadata": {},
     "output_type": "execute_result"
    }
   ],
   "source": [
    "a=np.array(5)\n",
    "a"
   ]
  },
  {
   "cell_type": "markdown",
   "id": "70737158-004e-4176-b412-ec76485023c8",
   "metadata": {},
   "source": [
    "#### reshape array"
   ]
  },
  {
   "cell_type": "code",
   "execution_count": 15,
   "id": "fe944a84-292d-4a38-8de2-dc78a4ef1811",
   "metadata": {},
   "outputs": [],
   "source": [
    "a=a.reshape(3,5)"
   ]
  },
  {
   "cell_type": "code",
   "execution_count": 9,
   "id": "fbc76189-d37a-4178-b266-0401ca5836a3",
   "metadata": {},
   "outputs": [
    {
     "data": {
      "text/plain": [
       "(15,)"
      ]
     },
     "execution_count": 9,
     "metadata": {},
     "output_type": "execute_result"
    }
   ],
   "source": [
    "a.shape"
   ]
  },
  {
   "cell_type": "markdown",
   "id": "8b59b4c4-f75a-4791-a652-9949552f6bfa",
   "metadata": {},
   "source": [
    "#### print attribute of array"
   ]
  },
  {
   "cell_type": "code",
   "execution_count": 21,
   "id": "b66502f1-fee7-473a-b5ad-f5489468d1bb",
   "metadata": {},
   "outputs": [
    {
     "name": "stdout",
     "output_type": "stream",
     "text": [
      "(3, 5)\n",
      "2\n",
      "15\n",
      "int32\n"
     ]
    }
   ],
   "source": [
    "print(a.shape)\n",
    "print(a.ndim)\n",
    "print(a.size)\n",
    "print(a.dtype)"
   ]
  },
  {
   "cell_type": "markdown",
   "id": "d1fa3c9a-28ee-46b8-ae66-18ce75f2d1c4",
   "metadata": {},
   "source": [
    "#### filter array"
   ]
  },
  {
   "cell_type": "code",
   "execution_count": 22,
   "id": "213bd13b-c376-4b4d-9e0e-d21c5921b964",
   "metadata": {},
   "outputs": [
    {
     "data": {
      "text/plain": [
       "array([[False, False, False,  True,  True],\n",
       "       [ True,  True,  True,  True,  True],\n",
       "       [ True,  True,  True,  True,  True]])"
      ]
     },
     "execution_count": 22,
     "metadata": {},
     "output_type": "execute_result"
    }
   ],
   "source": [
    "a>2"
   ]
  },
  {
   "cell_type": "markdown",
   "id": "e18f51e3-03b9-461b-9137-7e5769352877",
   "metadata": {},
   "source": [
    "#### make zero array"
   ]
  },
  {
   "cell_type": "code",
   "execution_count": 30,
   "id": "87b0dce3-e76d-4f56-84c3-e45c5af06698",
   "metadata": {},
   "outputs": [
    {
     "data": {
      "text/plain": [
       "array([[0., 0., 0., 0., 0.],\n",
       "       [0., 0., 0., 0., 0.],\n",
       "       [0., 0., 0., 0., 0.]])"
      ]
     },
     "execution_count": 30,
     "metadata": {},
     "output_type": "execute_result"
    }
   ],
   "source": [
    "np.zeros((3,5))"
   ]
  },
  {
   "cell_type": "markdown",
   "id": "8b536477-989b-4351-af4a-a922eb89f4e2",
   "metadata": {},
   "source": [
    "#### make one array"
   ]
  },
  {
   "cell_type": "code",
   "execution_count": 31,
   "id": "56c3be44-2595-4084-822e-aaf01a611921",
   "metadata": {},
   "outputs": [
    {
     "data": {
      "text/plain": [
       "array([[1., 1., 1., 1., 1.],\n",
       "       [1., 1., 1., 1., 1.],\n",
       "       [1., 1., 1., 1., 1.]])"
      ]
     },
     "execution_count": 31,
     "metadata": {},
     "output_type": "execute_result"
    }
   ],
   "source": [
    "np.ones((3,5))"
   ]
  },
  {
   "cell_type": "markdown",
   "id": "20cfc383-1f83-4d97-84f7-212607a4ed4f",
   "metadata": {},
   "source": [
    "#### make 3 dimention array "
   ]
  },
  {
   "cell_type": "code",
   "execution_count": 32,
   "id": "34ae2e2c-20d6-4b36-b4e0-e4a8256ba07d",
   "metadata": {},
   "outputs": [
    {
     "data": {
      "text/plain": [
       "array([[[0., 0., 0., 0.],\n",
       "        [0., 0., 0., 0.]],\n",
       "\n",
       "       [[0., 0., 0., 0.],\n",
       "        [0., 0., 0., 0.]],\n",
       "\n",
       "       [[0., 0., 0., 0.],\n",
       "        [0., 0., 0., 0.]]])"
      ]
     },
     "execution_count": 32,
     "metadata": {},
     "output_type": "execute_result"
    }
   ],
   "source": [
    "np.zeros((3,2,4))"
   ]
  }
 ],
 "metadata": {
  "kernelspec": {
   "display_name": "Python 3 (ipykernel)",
   "language": "python",
   "name": "python3"
  },
  "language_info": {
   "codemirror_mode": {
    "name": "ipython",
    "version": 3
   },
   "file_extension": ".py",
   "mimetype": "text/x-python",
   "name": "python",
   "nbconvert_exporter": "python",
   "pygments_lexer": "ipython3",
   "version": "3.12.4"
  }
 },
 "nbformat": 4,
 "nbformat_minor": 5
}
